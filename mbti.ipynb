{
  "nbformat": 4,
  "nbformat_minor": 0,
  "metadata": {
    "colab": {
      "provenance": []
    },
    "kernelspec": {
      "name": "python3",
      "display_name": "Python 3"
    },
    "language_info": {
      "name": "python"
    }
  },
  "cells": [
    {
      "cell_type": "code",
      "source": [
        "# Importando o Dataset\n",
        "import zipfile\n",
        "import pandas as pd\n",
        "import seaborn as sbn\n",
        "import matplotlib.pyplot as plt"
      ],
      "metadata": {
        "id": "M0fMN8Oint4e"
      },
      "execution_count": null,
      "outputs": []
    },
    {
      "cell_type": "code",
      "source": [
        "from pandas.core.frame import DataFrame\n",
        "# mbti_file_path = 'https://github.com/hype-usp/Grupos-de-estudos/blob/main/mbti_1.csv.zip?raw=true' # dataset original\n",
        "mbti_file_path = 'https://github.com/hype-usp/Grupos-de-estudos/blob/main/mbti_tunado.zip?raw=true' # dataset tunado - Laís\n",
        "mbti_data = pd.read_csv(mbti_file_path, compression='zip')\n",
        "df = mbti_data"
      ],
      "metadata": {
        "id": "Cu5q_RwEoD-5"
      },
      "execution_count": null,
      "outputs": []
    },
    {
      "cell_type": "code",
      "source": [
        "df.drop(['Unnamed: 0'], axis = 1, inplace = True)"
      ],
      "metadata": {
        "id": "CVIaDBd8oLax"
      },
      "execution_count": null,
      "outputs": []
    },
    {
      "cell_type": "code",
      "source": [
        "df['posts']"
      ],
      "metadata": {
        "colab": {
          "base_uri": "https://localhost:8080/"
        },
        "id": "a9C6_wsvonD0",
        "outputId": "80583f9e-92a6-48ac-bf3b-38ebe99d061f"
      },
      "execution_count": null,
      "outputs": [
        {
          "output_type": "execute_result",
          "data": {
            "text/plain": [
              "0       'http://www.youtube.com/watch?v=qsXHcwe3krw|||...\n",
              "1       'I'm finding the lack of me in these posts ver...\n",
              "2       'Good one  _____   https://www.youtube.com/wat...\n",
              "3       'Dear INTP,   I enjoyed our conversation the o...\n",
              "4       'You're fired.|||That's another silly misconce...\n",
              "                              ...                        \n",
              "8670    'https://www.youtube.com/watch?v=t8edHB_h908||...\n",
              "8671    'So...if this thread already exists someplace ...\n",
              "8672    'So many questions when i do these things.  I ...\n",
              "8673    'I am very conflicted right now when it comes ...\n",
              "8674    'It has been too long since I have been on per...\n",
              "Name: posts, Length: 8675, dtype: object"
            ]
          },
          "metadata": {},
          "execution_count": 6
        }
      ]
    },
    {
      "cell_type": "code",
      "source": [
        "df['posts']"
      ],
      "metadata": {
        "colab": {
          "base_uri": "https://localhost:8080/"
        },
        "id": "rkS_Vzs_SAQ5",
        "outputId": "b58b77cf-c755-4e19-a014-443ed8841159"
      },
      "execution_count": null,
      "outputs": [
        {
          "output_type": "execute_result",
          "data": {
            "text/plain": [
              "0       'http://www.youtube.com/watch?v=qsXHcwe3krw|||...\n",
              "1       'I'm finding the lack of me in these posts ver...\n",
              "2       'Good one  _____   https://www.youtube.com/wat...\n",
              "3       'Dear INTP,   I enjoyed our conversation the o...\n",
              "4       'You're fired.|||That's another silly misconce...\n",
              "                              ...                        \n",
              "8670    'https://www.youtube.com/watch?v=t8edHB_h908||...\n",
              "8671    'So...if this thread already exists someplace ...\n",
              "8672    'So many questions when i do these things.  I ...\n",
              "8673    'I am very conflicted right now when it comes ...\n",
              "8674    'It has been too long since I have been on per...\n",
              "Name: posts, Length: 8675, dtype: object"
            ]
          },
          "metadata": {},
          "execution_count": 32
        }
      ]
    },
    {
      "cell_type": "code",
      "source": [
        "sbn.histplot(df['mind'])"
      ],
      "metadata": {
        "colab": {
          "base_uri": "https://localhost:8080/",
          "height": 300
        },
        "id": "EDzUWU7q4I2m",
        "outputId": "243fc913-aa54-4ea9-9265-813276a7cafe"
      },
      "execution_count": null,
      "outputs": [
        {
          "output_type": "execute_result",
          "data": {
            "text/plain": [
              "<matplotlib.axes._subplots.AxesSubplot at 0x7fd781b66f90>"
            ]
          },
          "metadata": {},
          "execution_count": 5
        },
        {
          "output_type": "display_data",
          "data": {
            "text/plain": [
              "<Figure size 432x288 with 1 Axes>"
            ],
            "image/png": "[encoded data removed]"
          },
          "metadata": {
            "needs_background": "light"
          }
        }
      ]
    },
    {
      "cell_type": "code",
      "source": [
        "X = df['posts']\n",
        "Y = df['type']"
      ],
      "metadata": {
        "id": "oWGbdGu-pRsV"
      },
      "execution_count": null,
      "outputs": []
    },
    {
      "cell_type": "code",
      "source": [
        "from sklearn.feature_extraction.text import CountVectorizer"
      ],
      "metadata": {
        "id": "nE55s5awpnjq"
      },
      "execution_count": null,
      "outputs": []
    },
    {
      "cell_type": "code",
      "source": [
        "vetorizador = CountVectorizer()\n",
        "vetorizador.fit(X)\n",
        "textos_vetorizados = vetorizador.transform(X)"
      ],
      "metadata": {
        "id": "Z1X9ezjiqQST"
      },
      "execution_count": null,
      "outputs": []
    },
    {
      "cell_type": "code",
      "source": [
        "from sklearn.model_selection import train_test_split"
      ],
      "metadata": {
        "id": "fMYTInPxvHwi"
      },
      "execution_count": null,
      "outputs": []
    },
    {
      "cell_type": "code",
      "source": [
        "X_train, X_test, Y_train, Y_test = train_test_split(textos_vetorizados, Y, test_size = 0.30, random_state=0)"
      ],
      "metadata": {
        "id": "uTeB9AIfvHyG"
      },
      "execution_count": null,
      "outputs": []
    },
    {
      "cell_type": "code",
      "source": [
        "X_train, X_test, Y_train, Y_test = train_test_split(textos_vetorizados, Y, test_size = 0.30, random_state=0)"
      ],
      "metadata": {
        "id": "YOEgK4MZcxuM"
      },
      "execution_count": null,
      "outputs": []
    },
    {
      "cell_type": "code",
      "source": [
        "from sklearn import tree"
      ],
      "metadata": {
        "id": "xHCGK0ULtfxp"
      },
      "execution_count": null,
      "outputs": []
    },
    {
      "cell_type": "code",
      "source": [
        "classificador_arvore_de_decisao = tree.DecisionTreeClassifier()\n",
        "classificador_arvore_de_decisao = classificador_arvore_de_decisao.fit(X_train, Y_train)"
      ],
      "metadata": {
        "id": "o0PxtJAbsuSz"
      },
      "execution_count": null,
      "outputs": []
    },
    {
      "cell_type": "code",
      "source": [
        "Y_que_a_gente_previu = classificador_arvore_de_decisao.predict(X_test)"
      ],
      "metadata": {
        "id": "rMTtAR3XuoK-"
      },
      "execution_count": null,
      "outputs": []
    },
    {
      "cell_type": "code",
      "source": [
        "Y_que_a_gente_previu"
      ],
      "metadata": {
        "colab": {
          "base_uri": "https://localhost:8080/"
        },
        "id": "qTPO9GLXx-KS",
        "outputId": "c63827ba-b25d-434e-ce30-510ced8fbe9e"
      },
      "execution_count": null,
      "outputs": [
        {
          "output_type": "execute_result",
          "data": {
            "text/plain": [
              "array(['ENFP', 'INFJ', 'ENFP', ..., 'INFJ', 'INTP', 'INFP'], dtype=object)"
            ]
          },
          "metadata": {},
          "execution_count": 14
        }
      ]
    },
    {
      "cell_type": "code",
      "source": [
        "sbn.histplot(Y_que_a_gente_previu)"
      ],
      "metadata": {
        "colab": {
          "base_uri": "https://localhost:8080/",
          "height": 285
        },
        "id": "HwUypQ4tyCfj",
        "outputId": "4ce4f7f6-b9ae-4550-b8a4-4603965dd09c"
      },
      "execution_count": null,
      "outputs": [
        {
          "output_type": "execute_result",
          "data": {
            "text/plain": [
              "<matplotlib.axes._subplots.AxesSubplot at 0x7fd77f9bf950>"
            ]
          },
          "metadata": {},
          "execution_count": 15
        },
        {
          "output_type": "display_data",
          "data": {
            "text/plain": [
              "<Figure size 432x288 with 1 Axes>"
            ],
            "image/png": "[encoded data removed]"
          },
          "metadata": {
            "needs_background": "light"
          }
        }
      ]
    },
    {
      "cell_type": "code",
      "source": [
        "sbn.histplot(Y_test)"
      ],
      "metadata": {
        "colab": {
          "base_uri": "https://localhost:8080/",
          "height": 296
        },
        "id": "nC9ircE4yPqu",
        "outputId": "dc196d2b-6fcf-47b8-ebad-2f1fe216dcbc"
      },
      "execution_count": null,
      "outputs": [
        {
          "output_type": "execute_result",
          "data": {
            "text/plain": [
              "<matplotlib.axes._subplots.AxesSubplot at 0x7fd77fa897d0>"
            ]
          },
          "metadata": {},
          "execution_count": 16
        },
        {
          "output_type": "display_data",
          "data": {
            "text/plain": [
              "<Figure size 432x288 with 1 Axes>"
            ],
            "image/png": "[encoded data removed]"
          },
          "metadata": {
            "needs_background": "light"
          }
        }
      ]
    },
    {
      "cell_type": "code",
      "source": [
        "from sklearn.model_selection import cross_val_score"
      ],
      "metadata": {
        "id": "-uVEO3xXxYl2"
      },
      "execution_count": null,
      "outputs": []
    },
    {
      "cell_type": "code",
      "source": [
        "scores = cross_val_score(classificador_arvore_de_decisao, X_test, Y_test, cv=5)"
      ],
      "metadata": {
        "id": "_1BaEk_TxJTW"
      },
      "execution_count": null,
      "outputs": []
    },
    {
      "cell_type": "code",
      "source": [
        "scores"
      ],
      "metadata": {
        "colab": {
          "base_uri": "https://localhost:8080/"
        },
        "id": "wHQ2rWtkxbQu",
        "outputId": "8f8b2def-bbfb-476c-ced5-7159d9a803a3"
      },
      "execution_count": null,
      "outputs": [
        {
          "output_type": "execute_result",
          "data": {
            "text/plain": [
              "array([0.44913628, 0.46065259, 0.45681382, 0.5       , 0.49230769])"
            ]
          },
          "metadata": {},
          "execution_count": 19
        }
      ]
    },
    {
      "cell_type": "code",
      "source": [
        "from sklearn.metrics import classification_report"
      ],
      "metadata": {
        "id": "z6XEpZDbygjc"
      },
      "execution_count": null,
      "outputs": []
    },
    {
      "cell_type": "code",
      "source": [
        "print(classification_report(Y_test, Y_que_a_gente_previu))"
      ],
      "metadata": {
        "colab": {
          "base_uri": "https://localhost:8080/"
        },
        "id": "2UYJ1am_ypgj",
        "outputId": "d75b8968-2611-4e71-8e5e-de5b2407de95"
      },
      "execution_count": null,
      "outputs": [
        {
          "output_type": "stream",
          "name": "stdout",
          "text": [
            "              precision    recall  f1-score   support\n",
            "\n",
            "        ENFJ       0.18      0.15      0.16        53\n",
            "        ENFP       0.46      0.47      0.46       201\n",
            "        ENTJ       0.22      0.28      0.25        60\n",
            "        ENTP       0.40      0.38      0.39       206\n",
            "        ESFJ       0.20      0.12      0.15        17\n",
            "        ESFP       0.00      0.00      0.00        14\n",
            "        ESTJ       0.09      0.10      0.10        10\n",
            "        ESTP       0.19      0.24      0.21        25\n",
            "        INFJ       0.53      0.55      0.54       450\n",
            "        INFP       0.56      0.59      0.57       542\n",
            "        INTJ       0.50      0.43      0.46       355\n",
            "        INTP       0.53      0.57      0.55       397\n",
            "        ISFJ       0.28      0.23      0.25        53\n",
            "        ISFP       0.32      0.31      0.32        78\n",
            "        ISTJ       0.35      0.29      0.31        56\n",
            "        ISTP       0.49      0.42      0.45        86\n",
            "\n",
            "    accuracy                           0.48      2603\n",
            "   macro avg       0.33      0.32      0.32      2603\n",
            "weighted avg       0.48      0.48      0.48      2603\n",
            "\n"
          ]
        }
      ]
    },
    {
      "cell_type": "code",
      "source": [
        "from sklearn.linear_model import LogisticRegression"
      ],
      "metadata": {
        "id": "SKfIypf-0d45"
      },
      "execution_count": null,
      "outputs": []
    },
    {
      "cell_type": "code",
      "source": [
        "classificador_regressao_logistica = LogisticRegression(solver='liblinear',random_state=0)"
      ],
      "metadata": {
        "id": "Cv2ROOml0gKd"
      },
      "execution_count": null,
      "outputs": []
    },
    {
      "cell_type": "code",
      "source": [
        "classificador_regressao_logistica.fit(X_train, Y_train)"
      ],
      "metadata": {
        "colab": {
          "base_uri": "https://localhost:8080/"
        },
        "id": "R_E8--Lk1GRg",
        "outputId": "3fc66de7-3dab-4c35-b544-09815a453f71"
      },
      "execution_count": null,
      "outputs": [
        {
          "output_type": "execute_result",
          "data": {
            "text/plain": [
              "LogisticRegression(random_state=0, solver='liblinear')"
            ]
          },
          "metadata": {},
          "execution_count": 24
        }
      ]
    },
    {
      "cell_type": "code",
      "source": [
        "Y_predicted = classificador_regressao_logistica.predict(X_test)"
      ],
      "metadata": {
        "id": "elaT45fE1zAF"
      },
      "execution_count": null,
      "outputs": []
    },
    {
      "cell_type": "code",
      "source": [
        "print(classification_report(Y_test, Y_predicted))"
      ],
      "metadata": {
        "colab": {
          "base_uri": "https://localhost:8080/"
        },
        "id": "0Hn3e6Qd2RnG",
        "outputId": "37d40f83-830e-471f-f008-0d8027296ab2"
      },
      "execution_count": null,
      "outputs": [
        {
          "output_type": "stream",
          "name": "stdout",
          "text": [
            "              precision    recall  f1-score   support\n",
            "\n",
            "        ENFJ       0.48      0.25      0.33        53\n",
            "        ENFP       0.56      0.50      0.53       201\n",
            "        ENTJ       0.43      0.37      0.40        60\n",
            "        ENTP       0.56      0.51      0.54       206\n",
            "        ESFJ       1.00      0.12      0.21        17\n",
            "        ESFP       0.29      0.14      0.19        14\n",
            "        ESTJ       1.00      0.10      0.18        10\n",
            "        ESTP       0.73      0.32      0.44        25\n",
            "        INFJ       0.62      0.69      0.65       450\n",
            "        INFP       0.64      0.74      0.69       542\n",
            "        INTJ       0.61      0.59      0.60       355\n",
            "        INTP       0.58      0.69      0.63       397\n",
            "        ISFJ       0.67      0.42      0.51        53\n",
            "        ISFP       0.59      0.38      0.47        78\n",
            "        ISTJ       0.56      0.34      0.42        56\n",
            "        ISTP       0.46      0.48      0.47        86\n",
            "\n",
            "    accuracy                           0.60      2603\n",
            "   macro avg       0.61      0.41      0.45      2603\n",
            "weighted avg       0.60      0.60      0.59      2603\n",
            "\n"
          ]
        }
      ]
    },
    {
      "cell_type": "markdown",
      "source": [
        "## Classificar apenas uma das 16 classes ao invés de todas de uma vez"
      ],
      "metadata": {
        "id": "p8fQsyyp4bQ5"
      }
    },
    {
      "cell_type": "code",
      "source": [
        "new_y = df['nature']\n",
        "new_X_train, new_X_test, new_Y_train, new_Y_test = train_test_split(textos_vetorizados, new_y, test_size = 0.30, random_state=0)\n",
        "classificador_regressao_logistica.fit(new_X_train, new_Y_train)\n",
        "y_previsto = classificador_regressao_logistica.predict(new_X_test)\n",
        "y_previsto\n",
        "print(classification_report(new_Y_test, y_previsto))"
      ],
      "metadata": {
        "colab": {
          "base_uri": "https://localhost:8080/"
        },
        "id": "BB5zthFG4h85",
        "outputId": "add7bd51-7f19-406a-8490-15f116e5bcbe"
      },
      "execution_count": null,
      "outputs": [
        {
          "output_type": "stream",
          "name": "stdout",
          "text": [
            "              precision    recall  f1-score   support\n",
            "\n",
            "           F       0.83      0.82      0.82      1408\n",
            "           T       0.79      0.80      0.80      1195\n",
            "\n",
            "    accuracy                           0.81      2603\n",
            "   macro avg       0.81      0.81      0.81      2603\n",
            "weighted avg       0.81      0.81      0.81      2603\n",
            "\n"
          ]
        }
      ]
    },
    {
      "cell_type": "code",
      "source": [
        "new_y = df['mind']\n",
        "new_X_train, new_X_test, new_Y_train, new_Y_test = train_test_split(textos_vetorizados, new_y, test_size = 0.30, random_state=0)\n",
        "classificador_regressao_logistica.fit(new_X_train, new_Y_train)\n",
        "y_previsto = classificador_regressao_logistica.predict(new_X_test)\n",
        "y_previsto\n",
        "print(classification_report(new_Y_test, y_previsto))"
      ],
      "metadata": {
        "colab": {
          "base_uri": "https://localhost:8080/"
        },
        "id": "LqXCVA3f5csa",
        "outputId": "d4991844-cfa6-40ff-d0c3-e8571e34c19a"
      },
      "execution_count": null,
      "outputs": [
        {
          "output_type": "stream",
          "name": "stdout",
          "text": [
            "              precision    recall  f1-score   support\n",
            "\n",
            "           E       0.67      0.56      0.61       586\n",
            "           I       0.88      0.92      0.90      2017\n",
            "\n",
            "    accuracy                           0.84      2603\n",
            "   macro avg       0.77      0.74      0.75      2603\n",
            "weighted avg       0.83      0.84      0.83      2603\n",
            "\n"
          ]
        }
      ]
    },
    {
      "cell_type": "code",
      "source": [
        "from imblearn.under_sampling import RandomUnderSampler\n",
        "under_sampler = RandomUnderSampler(random_state=0)\n",
        "X_under, y_under = under_sampler.fit_resample(new_X_train, new_Y_train)"
      ],
      "metadata": {
        "id": "8YMx4sD4_KWs"
      },
      "execution_count": null,
      "outputs": []
    },
    {
      "cell_type": "code",
      "source": [
        "classificador_regressao_logistica.fit(X_under, y_under)\n",
        "y_previsto = classificador_regressao_logistica.predict(new_X_test)\n",
        "print(classification_report(new_Y_test, y_previsto))"
      ],
      "metadata": {
        "colab": {
          "base_uri": "https://localhost:8080/"
        },
        "id": "XPkVVgYR_lS9",
        "outputId": "1cd1ca4a-fc60-4582-d078-946bb059005b"
      },
      "execution_count": null,
      "outputs": [
        {
          "output_type": "stream",
          "name": "stdout",
          "text": [
            "              precision    recall  f1-score   support\n",
            "\n",
            "           E       0.50      0.70      0.58       586\n",
            "           I       0.90      0.80      0.85      2017\n",
            "\n",
            "    accuracy                           0.78      2603\n",
            "   macro avg       0.70      0.75      0.72      2603\n",
            "weighted avg       0.81      0.78      0.79      2603\n",
            "\n"
          ]
        }
      ]
    },
    {
      "cell_type": "code",
      "source": [
        "sbn.histplot(y_under)"
      ],
      "metadata": {
        "colab": {
          "base_uri": "https://localhost:8080/",
          "height": 296
        },
        "id": "y9bsSKMpVcRk",
        "outputId": "05402171-3816-42e5-9aff-739fbb3491ec"
      },
      "execution_count": null,
      "outputs": [
        {
          "output_type": "execute_result",
          "data": {
            "text/plain": [
              "<matplotlib.axes._subplots.AxesSubplot at 0x7fd7800992d0>"
            ]
          },
          "metadata": {},
          "execution_count": 34
        },
        {
          "output_type": "display_data",
          "data": {
            "text/plain": [
              "<Figure size 432x288 with 1 Axes>"
            ],
            "image/png": "[encoded data removed]"
          },
          "metadata": {
            "needs_background": "light"
          }
        }
      ]
    },
    {
      "cell_type": "code",
      "source": [
        "sbn.histplot(y_previsto)"
      ],
      "metadata": {
        "colab": {
          "base_uri": "https://localhost:8080/",
          "height": 282
        },
        "id": "tzn67bZ4UyxS",
        "outputId": "0fd463b1-01a8-47aa-b57d-590167aa4f16"
      },
      "execution_count": null,
      "outputs": [
        {
          "output_type": "execute_result",
          "data": {
            "text/plain": [
              "<matplotlib.axes._subplots.AxesSubplot at 0x7fd78005a390>"
            ]
          },
          "metadata": {},
          "execution_count": 33
        },
        {
          "output_type": "display_data",
          "data": {
            "text/plain": [
              "<Figure size 432x288 with 1 Axes>"
            ],
            "image/png": "[encoded data removed]"
          },
          "metadata": {
            "needs_background": "light"
          }
        }
      ]
    },
    {
      "cell_type": "code",
      "source": [
        "classificador_arvore_de_decisao_2 = tree.DecisionTreeClassifier()\n",
        "classificador_arvore_de_decisao_2 = classificador_arvore_de_decisao_2.fit(X_under, y_under)"
      ],
      "metadata": {
        "id": "wXqG-uSUVzv6"
      },
      "execution_count": null,
      "outputs": []
    },
    {
      "cell_type": "code",
      "source": [
        "y_dt = classificador_arvore_de_decisao_2.predict(new_X_test)"
      ],
      "metadata": {
        "id": "zsAl73-_WKO2"
      },
      "execution_count": null,
      "outputs": []
    },
    {
      "cell_type": "code",
      "source": [
        "print(classification_report(new_Y_test, y_dt))"
      ],
      "metadata": {
        "colab": {
          "base_uri": "https://localhost:8080/"
        },
        "id": "p-76MKqfWg-E",
        "outputId": "65f87627-aa83-410c-8eab-40787db16d92"
      },
      "execution_count": null,
      "outputs": [
        {
          "output_type": "stream",
          "name": "stdout",
          "text": [
            "              precision    recall  f1-score   support\n",
            "\n",
            "           E       0.38      0.67      0.49       586\n",
            "           I       0.88      0.68      0.77      2017\n",
            "\n",
            "    accuracy                           0.68      2603\n",
            "   macro avg       0.63      0.68      0.63      2603\n",
            "weighted avg       0.77      0.68      0.70      2603\n",
            "\n"
          ]
        }
      ]
    },
    {
      "cell_type": "code",
      "source": [
        "y_dt.shape"
      ],
      "metadata": {
        "colab": {
          "base_uri": "https://localhost:8080/"
        },
        "id": "l0KDzUd_WyV1",
        "outputId": "25a58d7b-f17b-4ada-938c-357bb484170d"
      },
      "execution_count": null,
      "outputs": [
        {
          "output_type": "execute_result",
          "data": {
            "text/plain": [
              "(2603,)"
            ]
          },
          "metadata": {},
          "execution_count": 46
        }
      ]
    },
    {
      "cell_type": "code",
      "source": [
        "df[['posts', 'mind']].head()"
      ],
      "metadata": {
        "colab": {
          "base_uri": "https://localhost:8080/",
          "height": 2385
        },
        "id": "0plKfw71XvHc",
        "outputId": "761e6cb1-80b0-414c-e632-ddcd5c935485"
      },
      "execution_count": null,
      "outputs": [
        {
          "output_type": "execute_result",
          "data": {
            "text/plain": [
              "                                               posts mind\n",
              "0  'http://www.youtube.com/watch?v=qsXHcwe3krw|||...    I\n",
              "1  'I'm finding the lack of me in these posts ver...    E\n",
              "2  'Good one  _____   https://www.youtube.com/wat...    I\n",
              "3  'Dear INTP,   I enjoyed our conversation the o...    I\n",
              "4  'You're fired.|||That's another silly misconce...    E"
            ],
            "text/html": [
              "\n",
              "  <div id=\"df-1d1560b0-e6fd-4314-9db2-785b3492c758\">\n",
              "    <div class=\"colab-df-container\">\n",
              "      <div>\n",
              "<style scoped>\n",
              "    .dataframe tbody tr th:only-of-type {\n",
              "        vertical-align: middle;\n",
              "    }\n",
              "\n",
              "    .dataframe tbody tr th {\n",
              "        vertical-align: top;\n",
              "    }\n",
              "\n",
              "    .dataframe thead th {\n",
              "        text-align: right;\n",
              "    }\n",
              "</style>\n",
              "<table border=\"1\" class=\"dataframe\">\n",
              "  <thead>\n",
              "    <tr style=\"text-align: right;\">\n",
              "      <th></th>\n",
              "      <th>posts</th>\n",
              "      <th>mind</th>\n",
              "    </tr>\n",
              "  </thead>\n",
              "  <tbody>\n",
              "    <tr>\n",
              "      <th>0</th>\n",
              "      <td>'http://www.youtube.com/watch?v=qsXHcwe3krw|||...</td>\n",
              "      <td>I</td>\n",
              "    </tr>\n",
              "    <tr>\n",
              "      <th>1</th>\n",
              "      <td>'I'm finding the lack of me in these posts ver...</td>\n",
              "      <td>E</td>\n",
              "    </tr>\n",
              "    <tr>\n",
              "      <th>2</th>\n",
              "      <td>'Good one  _____   https://www.youtube.com/wat...</td>\n",
              "      <td>I</td>\n",
              "    </tr>\n",
              "    <tr>\n",
              "      <th>3</th>\n",
              "      <td>'Dear INTP,   I enjoyed our conversation the o...</td>\n",
              "      <td>I</td>\n",
              "    </tr>\n",
              "    <tr>\n",
              "      <th>4</th>\n",
              "      <td>'You're fired.|||That's another silly misconce...</td>\n",
              "      <td>E</td>\n",
              "    </tr>\n",
              "  </tbody>\n",
              "</table>\n",
              "</div>\n",
              "      <button class=\"colab-df-convert\" onclick=\"convertToInteractive('df-1d1560b0-e6fd-4314-9db2-785b3492c758')\"\n",
              "              title=\"Convert this dataframe to an interactive table.\"\n",
              "              style=\"display:none;\">\n",
              "        \n",
              "  <svg xmlns=\"http://www.w3.org/2000/svg\" height=\"24px\"viewBox=\"0 0 24 24\"\n",
              "       width=\"24px\">\n",
              "    <path d=\"M0 0h24v24H0V0z\" fill=\"none\"/>\n",
              "    <path d=\"M18.56 5.44l.94 2.06.94-2.06 2.06-.94-2.06-.94-.94-2.06-.94 2.06-2.06.94zm-11 1L8.5 8.5l.94-2.06 2.06-.94-2.06-.94L8.5 2.5l-.94 2.06-2.06.94zm10 10l.94 2.06.94-2.06 2.06-.94-2.06-.94-.94-2.06-.94 2.06-2.06.94z\"/><path d=\"M17.41 7.96l-1.37-1.37c-.4-.4-.92-.59-1.43-.59-.52 0-1.04.2-1.43.59L10.3 9.45l-7.72 7.72c-.78.78-.78 2.05 0 2.83L4 21.41c.39.39.9.59 1.41.59.51 0 1.02-.2 1.41-.59l7.78-7.78 2.81-2.81c.8-.78.8-2.07 0-2.86zM5.41 20L4 18.59l7.72-7.72 1.47 1.35L5.41 20z\"/>\n",
              "  </svg>\n",
              "      </button>\n",
              "      \n",
              "  <style>\n",
              "    .colab-df-container {\n",
              "      display:flex;\n",
              "      flex-wrap:wrap;\n",
              "      gap: 12px;\n",
              "    }\n",
              "\n",
              "    .colab-df-convert {\n",
              "      background-color: #E8F0FE;\n",
              "      border: none;\n",
              "      border-radius: 50%;\n",
              "      cursor: pointer;\n",
              "      display: none;\n",
              "      fill: #1967D2;\n",
              "      height: 32px;\n",
              "      padding: 0 0 0 0;\n",
              "      width: 32px;\n",
              "    }\n",
              "\n",
              "    .colab-df-convert:hover {\n",
              "      background-color: #E2EBFA;\n",
              "      box-shadow: 0px 1px 2px rgba(60, 64, 67, 0.3), 0px 1px 3px 1px rgba(60, 64, 67, 0.15);\n",
              "      fill: #174EA6;\n",
              "    }\n",
              "\n",
              "    [theme=dark] .colab-df-convert {\n",
              "      background-color: #3B4455;\n",
              "      fill: #D2E3FC;\n",
              "    }\n",
              "\n",
              "    [theme=dark] .colab-df-convert:hover {\n",
              "      background-color: #434B5C;\n",
              "      box-shadow: 0px 1px 3px 1px rgba(0, 0, 0, 0.15);\n",
              "      filter: drop-shadow(0px 1px 2px rgba(0, 0, 0, 0.3));\n",
              "      fill: #FFFFFF;\n",
              "    }\n",
              "  </style>\n",
              "\n",
              "      <script>\n",
              "        const buttonEl =\n",
              "          document.querySelector('#df-1d1560b0-e6fd-4314-9db2-785b3492c758 button.colab-df-convert');\n",
              "        buttonEl.style.display =\n",
              "          google.colab.kernel.accessAllowed ? 'block' : 'none';\n",
              "\n",
              "        async function convertToInteractive(key) {\n",
              "          const element = document.querySelector('#df-1d1560b0-e6fd-4314-9db2-785b3492c758');\n",
              "          const dataTable =\n",
              "            await google.colab.kernel.invokeFunction('convertToInteractive',\n",
              "                                                     [key], {});\n",
              "          if (!dataTable) return;\n",
              "\n",
              "          const docLinkHtml = 'Like what you see? Visit the ' +\n",
              "            '<a target=\"_blank\" href=https://colab.research.google.com/notebooks/data_table.ipynb>data table notebook</a>'\n",
              "            + ' to learn more about interactive tables.';\n",
              "          element.innerHTML = '';\n",
              "          dataTable['output_type'] = 'display_data';\n",
              "          await google.colab.output.renderOutput(dataTable, element);\n",
              "          const docLink = document.createElement('div');\n",
              "          docLink.innerHTML = docLinkHtml;\n",
              "          element.appendChild(docLink);\n",
              "        }\n",
              "      </script>\n",
              "    </div>\n",
              "  </div>\n",
              "  "
            ]
          },
          "metadata": {},
          "execution_count": 56
        }
      ]
    },
    {
      "cell_type": "code",
      "source": [
        "sbn.histplot(df.posts.str.len())"
      ],
      "metadata": {
        "colab": {
          "base_uri": "https://localhost:8080/",
          "height": 296
        },
        "id": "qT8WyE5cZItu",
        "outputId": "f4b9926b-744a-4363-b932-f1a9830da97f"
      },
      "execution_count": null,
      "outputs": [
        {
          "output_type": "execute_result",
          "data": {
            "text/plain": [
              "<matplotlib.axes._subplots.AxesSubplot at 0x7fd780cdb6d0>"
            ]
          },
          "metadata": {},
          "execution_count": 60
        },
        {
          "output_type": "display_data",
          "data": {
            "text/plain": [
              "<Figure size 432x288 with 1 Axes>"
            ],
            "image/png": "[encoded data removed]"
          },
          "metadata": {
            "needs_background": "light"
          }
        }
      ]
    },
    {
      "cell_type": "code",
      "source": [
        "vect_char = CountVectorizer(ngram_range=(3, 7), analyzer= 'char')\n",
        "vect_char.fit(X)\n",
        "textos_vetorizados = vect_char.transform(X)"
      ],
      "metadata": {
        "id": "pjBprsFHBG2f"
      },
      "execution_count": null,
      "outputs": []
    },
    {
      "cell_type": "code",
      "source": [
        "classificador_reg_log_char = LogisticRegression(solver='liblinear',random_state=0)"
      ],
      "metadata": {
        "id": "fhxCoIKVbPy5"
      },
      "execution_count": null,
      "outputs": []
    },
    {
      "cell_type": "code",
      "source": [
        "new_X_train, new_X_test, new_Y_train, new_Y_test = train_test_split(textos_vetorizados, new_y, test_size = 0.30, random_state=0)"
      ],
      "metadata": {
        "id": "thQm7TqEb-IY"
      },
      "execution_count": null,
      "outputs": []
    },
    {
      "cell_type": "code",
      "source": [
        "classificador_reg_log_char.fit(new_X_train, new_Y_train)\n",
        "y_previsto = classificador_reg_log_char.predict(new_X_test)\n",
        "y_previsto\n",
        "print(classification_report(new_Y_test, y_previsto))"
      ],
      "metadata": {
        "colab": {
          "base_uri": "https://localhost:8080/"
        },
        "id": "8FbFqiqgbekP",
        "outputId": "1be9602b-058a-47af-b509-6b1cdf729537"
      },
      "execution_count": null,
      "outputs": [
        {
          "output_type": "stream",
          "name": "stdout",
          "text": [
            "              precision    recall  f1-score   support\n",
            "\n",
            "           E       0.67      0.56      0.61       586\n",
            "           I       0.88      0.92      0.90      2017\n",
            "\n",
            "    accuracy                           0.84      2603\n",
            "   macro avg       0.77      0.74      0.75      2603\n",
            "weighted avg       0.83      0.84      0.83      2603\n",
            "\n"
          ]
        }
      ]
    },
    {
      "cell_type": "markdown",
      "source": [
        "--------------------------------"
      ],
      "metadata": {
        "id": "AuId92ohcMin"
      }
    },
    {
      "cell_type": "code",
      "source": [
        "X = df['posts']\n",
        "Y = df['mind']"
      ],
      "metadata": {
        "id": "KQs-6msJcNmV"
      },
      "execution_count": null,
      "outputs": []
    },
    {
      "cell_type": "code",
      "source": [
        "vect_char = CountVectorizer(analyzer= 'char')\n",
        "vect_char.fit(X)\n",
        "textos_vetorizados = vect_char.transform(X)"
      ],
      "metadata": {
        "id": "qNp3tEwycoLD"
      },
      "execution_count": null,
      "outputs": []
    },
    {
      "cell_type": "code",
      "source": [
        "X_train, X_test, Y_train, Y_test = train_test_split(textos_vetorizados, Y, test_size = 0.30, random_state=0)"
      ],
      "metadata": {
        "id": "Sbjz9MDncxsS"
      },
      "execution_count": null,
      "outputs": []
    },
    {
      "cell_type": "code",
      "source": [
        "from imblearn.under_sampling import RandomUnderSampler\n",
        "under_sampler = RandomUnderSampler(random_state=0)\n",
        "X_under, y_under = under_sampler.fit_resample(X_train, Y_train)"
      ],
      "metadata": {
        "id": "Ld-vBtGGeKeW"
      },
      "execution_count": null,
      "outputs": []
    },
    {
      "cell_type": "code",
      "source": [
        "classificador_regressao_logistica = LogisticRegression(solver='liblinear',random_state=0)\n",
        "classificador_regressao_logistica.fit(X_under, y_under)\n",
        "y_previsto = classificador_regressao_logistica.predict(X_test)\n",
        "y_previsto\n",
        "print(classification_report(Y_test, y_previsto))"
      ],
      "metadata": {
        "colab": {
          "base_uri": "https://localhost:8080/"
        },
        "id": "u6Oe22CcdAQS",
        "outputId": "76fcfa5c-fe73-4119-b5b1-200b46ef6c19"
      },
      "execution_count": null,
      "outputs": [
        {
          "output_type": "stream",
          "name": "stdout",
          "text": [
            "              precision    recall  f1-score   support\n",
            "\n",
            "           E       0.53      0.72      0.61       586\n",
            "           I       0.91      0.81      0.86      2017\n",
            "\n",
            "    accuracy                           0.79      2603\n",
            "   macro avg       0.72      0.77      0.73      2603\n",
            "weighted avg       0.82      0.79      0.80      2603\n",
            "\n"
          ]
        }
      ]
    },
    {
      "cell_type": "code",
      "source": [
        "sbn.histplot(y_previsto)"
      ],
      "metadata": {
        "colab": {
          "base_uri": "https://localhost:8080/",
          "height": 282
        },
        "id": "B-E9VBBOd3MW",
        "outputId": "3768c259-eee3-47b3-d16b-e930852727c1"
      },
      "execution_count": null,
      "outputs": [
        {
          "output_type": "execute_result",
          "data": {
            "text/plain": [
              "<matplotlib.axes._subplots.AxesSubplot at 0x7fd73c2f7b10>"
            ]
          },
          "metadata": {},
          "execution_count": 104
        },
        {
          "output_type": "display_data",
          "data": {
            "text/plain": [
              "<Figure size 432x288 with 1 Axes>"
            ],
            "image/png": "[encoded data removed]"
          },
          "metadata": {
            "needs_background": "light"
          }
        }
      ]
    }
  ]
}